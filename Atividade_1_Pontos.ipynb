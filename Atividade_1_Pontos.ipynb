{
  "cells": [
    {
      "cell_type": "markdown",
      "metadata": {
        "id": "XAdlKnDBj5uB"
      },
      "source": [
        "# EFC1 GCC253 - Complexidade e Projeto de Algoritmos - 5 pontos.\n",
        "\n",
        "\n",
        "> **Prof.: Douglas H. S. Abreu**\n",
        "\n",
        "\n",
        "**Aluno**: Gabriel Nathan Almeida Silva \n",
        "\n",
        "**Matricula** 201811135\n",
        "\n",
        "**Turma**: 10A, 14A\n",
        "\n",
        "Link do repositório GitHub: https://github.com/GabrielNathan12/cpa-ordenacao\n",
        "\n",
        "● O trabalho deve ser feito em grupos de no máximo 4 componentes (Apenas um deve enviar a atividade no Campus Virtual)\n",
        "\n",
        "● Trabalhos entregues após a data limite não serão aceitos\n",
        "\n",
        "● Data limite de entrega: 20 de Novembro de 2022 : 23h55m\n",
        "\n",
        "● Enviar o trabalho para o campus virtual, do seguinte modo: link do repositório GitHub com acesso ao Notebook.\n",
        "\n",
        "● O trabalho deve ser desenvolvido no modelo Notebook utilizando preferencialmente a linguagem Python"
      ]
    },
    {
      "cell_type": "markdown",
      "metadata": {
        "id": "J3d6JlRUxREN"
      },
      "source": [
        "# Importações e Variáveis globais"
      ]
    },
    {
      "cell_type": "code",
      "execution_count": null,
      "metadata": {
        "id": "Ur1DVGQAxac4"
      },
      "outputs": [],
      "source": [
        "import numpy as np\n",
        "\n",
        "global_1=0"
      ]
    },
    {
      "cell_type": "markdown",
      "metadata": {
        "id": "kPNpzNYwkKAO"
      },
      "source": [
        "# Funções de Ordenação\n",
        "\n",
        "> Utilize este espaço para definir as funções de ordenação.\n",
        "\n"
      ]
    },
    {
      "cell_type": "markdown",
      "metadata": {
        "id": "nEw1UEsmoKMg"
      },
      "source": [
        "##  Insertion Sort\n"
      ]
    },
    {
      "cell_type": "code",
      "execution_count": 218,
      "metadata": {
        "id": "kbOrhdB-j_px"
      },
      "outputs": [],
      "source": [
        "def insertionSort(vetor):\n",
        "  for j in range(1, len(vetor)):\n",
        "    chave = vetor[j]\n",
        "    i = j -1\n",
        "\n",
        "    while i >= 0 and vetor[i] > chave:\n",
        "      vetor[i+1] = vetor[i]\n",
        "      i = i -1\n",
        "    vetor[i+1] = chave\n",
        "\n",
        "  return vetor"
      ]
    },
    {
      "cell_type": "markdown",
      "metadata": {
        "id": "9a-wJwU-wtmQ"
      },
      "source": [
        "##  Merge Sort\n"
      ]
    },
    {
      "cell_type": "code",
      "execution_count": 217,
      "metadata": {
        "id": "8cgIJ_4EwbPN"
      },
      "outputs": [],
      "source": [
        "def merge(vetor, esq, meio, dir):\n",
        "    n1 = meio - esq + 1\n",
        "    n2 = dir - meio\n",
        " \n",
        "    aux1 = [0] * (n1)\n",
        "    aux2 = [0] * (n2)\n",
        " \n",
        "    for i in range(0, n1):\n",
        "        aux1[i] = vetor[esq + i]\n",
        " \n",
        "    for j in range(0, n2):\n",
        "        aux2[j] = vetor[meio + 1 + j]\n",
        " \n",
        "    i = 0\n",
        "    j = 0\n",
        "    k = esq\n",
        " \n",
        "    while i < n1 and j < n2:\n",
        "        if aux1[i] <= aux2[j]:\n",
        "            vetor[k] = aux1[i]\n",
        "            i += 1\n",
        "        else:\n",
        "            vetor[k] = aux2[j]\n",
        "            j += 1\n",
        "        k += 1\n",
        " \n",
        "    while i < n1:\n",
        "        vetor[k] = aux1[i]\n",
        "        i += 1\n",
        "        k += 1\n",
        "\n",
        "    while j < n2:\n",
        "        vetor[k] = aux2[j]\n",
        "        j += 1\n",
        "        k += 1\n",
        "\n",
        "def mergeSort(vetor, esq, dir):\n",
        "    if esq < dir:\n",
        "        meio = esq+(dir-esq)//2\n",
        "        mergeSort(vetor, esq, meio)\n",
        "        mergeSort(vetor, meio+1, dir)\n",
        "        merge(vetor, esq, meio, dir)\n",
        "\n",
        "        return vetor"
      ]
    },
    {
      "cell_type": "markdown",
      "metadata": {
        "id": "8dWpeYUvw-wU"
      },
      "source": [
        "##  Selection Sort\n"
      ]
    },
    {
      "cell_type": "code",
      "execution_count": 219,
      "metadata": {
        "id": "vNgUDShawygu"
      },
      "outputs": [],
      "source": [
        "def selectionSort(vetor, n):\n",
        "    for i in range(n):\n",
        "      min = i\n",
        "\n",
        "      for j in range(i + 1, n):\n",
        "        if vetor[j] < vetor[min]:\n",
        "          min = j\n",
        "      if i != min:\n",
        "        aux = vetor[i]\n",
        "        vetor[i] = vetor[min]\n",
        "        vetor[min] = aux\n",
        "\n",
        "\n",
        "\n",
        "    return vetor"
      ]
    },
    {
      "cell_type": "markdown",
      "metadata": {
        "id": "zNI1kX0yyDrs"
      },
      "source": [
        "##  Bubble Sort\n"
      ]
    },
    {
      "cell_type": "code",
      "execution_count": 220,
      "metadata": {
        "id": "6X_zk1yWxMQS"
      },
      "outputs": [],
      "source": [
        "def bubbleSort(vetor):\n",
        "    for i in range(len(vetor)-1, 0 , -1):\n",
        "      for j in range(i):\n",
        "        if vetor[j] > vetor[j+1]:\n",
        "          aux = vetor[j]\n",
        "          vetor[j] = vetor[j+1]\n",
        "          vetor[j + 1] = aux\n",
        "          \n",
        "    return vetor"
      ]
    },
    {
      "cell_type": "markdown",
      "metadata": {
        "id": "vk4vOTkKyLB-"
      },
      "source": [
        "## Heap Sort"
      ]
    },
    {
      "cell_type": "markdown",
      "source": [],
      "metadata": {
        "id": "g-vzaW0mKbye"
      }
    },
    {
      "cell_type": "code",
      "execution_count": 221,
      "metadata": {
        "id": "39a7xXzLyH9g"
      },
      "outputs": [],
      "source": [
        "def heap(vetor, n , i):\n",
        "    maior = i\n",
        "    l = 2 * i + 1\n",
        "    r = 2 * i + 2\n",
        "\n",
        "    if l < n and vetor[i] < vetor[l]:\n",
        "      maior = l\n",
        "    \n",
        "    if r < n and vetor[maior] < vetor[r]:\n",
        "      maior = r\n",
        "    \n",
        "    if maior != i:\n",
        "\n",
        "      aux = vetor[i]\n",
        "      vetor[i] = vetor[maior]\n",
        "      vetor[maior] = aux\n",
        "      heap(vetor, n , maior)\n",
        "\n",
        "def heapSort(vetor):\n",
        "    n = len(vetor)\n",
        "    \n",
        "    for i in range(n//2, -1, -1):\n",
        "      heap(vetor, n , i)\n",
        "    \n",
        "    for j in range(n-1, 0 , -1):\n",
        "      vetor[j], vetor[0] = vetor[0], vetor[j]\n",
        "      heap(vetor, j , 0)\n",
        "\n",
        "    return vetor"
      ]
    },
    {
      "cell_type": "markdown",
      "metadata": {
        "id": "fFiGho5CyU3t"
      },
      "source": [
        "## Quick Sort com pivo sendo o ultimo elemento do arranjo\n",
        "\n",
        "> pivo = *A[A-comprimento]*"
      ]
    },
    {
      "cell_type": "code",
      "execution_count": 222,
      "metadata": {
        "id": "1Ie_N5CRyKY7"
      },
      "outputs": [],
      "source": [
        "def particao(vetor, esq, dir):\n",
        "    pivo = vetor[dir]\n",
        "    i = esq -1\n",
        "\n",
        "    for j in range(esq, dir):\n",
        "      if vetor[j] <= pivo:\n",
        "        i += 1\n",
        "        aux = vetor[i]\n",
        "        vetor[i] = vetor[j]\n",
        "        vetor[j] = aux\n",
        "\n",
        "    aux = vetor[i+1]\n",
        "    vetor[i+1] = vetor[dir]\n",
        "    vetor[dir] = aux \n",
        "    \n",
        "    return i + 1\n",
        "\n",
        "def quickSort(vetor, esq, dir):\n",
        "    if esq < dir:\n",
        "      pivo = particao(vetor , esq , dir)\n",
        "      quickSort(vetor , esq , pivo -1)\n",
        "      quickSort(vetor, pivo + 1 , dir)\n",
        "  \n",
        "    return vetor"
      ]
    },
    {
      "cell_type": "markdown",
      "metadata": {
        "id": "VomdAnCrzEv1"
      },
      "source": [
        "# Questões"
      ]
    },
    {
      "cell_type": "markdown",
      "metadata": {
        "id": "3QKV979kzItD"
      },
      "source": [
        "\n",
        "\n",
        "1.   Escolha pelo menos 3 arranjos. Ex: ***A[5,...,1000,...,100]*** e mostre o funcionamento dos Algoritmos realizando a ordenação.\n",
        "\n",
        "\n",
        "\n"
      ]
    },
    {
      "cell_type": "code",
      "execution_count": 22,
      "metadata": {
        "colab": {
          "base_uri": "https://localhost:8080/"
        },
        "id": "nBfs279_1Vko",
        "outputId": "ec76ec89-4d0a-4d01-983b-54a5a2f6fe9c"
      },
      "outputs": [
        {
          "output_type": "stream",
          "name": "stdout",
          "text": [
            "Boa sorte!!!\n"
          ]
        }
      ],
      "source": [
        "print(\"Boa sorte!!!\")"
      ]
    },
    {
      "cell_type": "code",
      "source": [
        "vetorInser1 = [0,10,1,-10,74]\n",
        "insertionSort(vetorInser1)\n",
        "print(\"Primeiro vetor Ordenado por Inserction = \", vetorInser1)\n",
        "\n",
        "vetorInser2 = [9,1,88,13,56,19,0,76]\n",
        "insertionSort(vetorInser2)\n",
        "print(\"Segundo vetor Ordenado por Inserction = \" , vetorInser2)\n",
        "\n",
        "vetorInser3 = [98,881,75,61,389,891,983,106,444,136,563,32,244,156,298,583]\n",
        "insertionSort(vetorInser3)\n",
        "print(\"Terceiro vetor Ordenado por Inserction = \" , vetorInser3)"
      ],
      "metadata": {
        "colab": {
          "base_uri": "https://localhost:8080/"
        },
        "id": "eROWoR4HLQCU",
        "outputId": "c0559035-74e2-4c29-d943-d3c6b564d298"
      },
      "execution_count": 223,
      "outputs": [
        {
          "output_type": "stream",
          "name": "stdout",
          "text": [
            "Primeiro vetor Ordenado por Inserction =  [-10, 0, 1, 10, 74]\n",
            "Segundo vetor Ordenado por Inserction =  [0, 1, 9, 13, 19, 56, 76, 88]\n",
            "Terceiro vetor Ordenado por Inserction =  [32, 61, 75, 98, 106, 136, 156, 244, 298, 389, 444, 563, 583, 881, 891, 983]\n"
          ]
        }
      ]
    },
    {
      "cell_type": "code",
      "source": [
        "vetorMerge1 = [12,11,14,5,1, 0 , 1]\n",
        "n = len(vetorMerge1)\n",
        "mergeSort(vetorMerge1 , 0 , n-1)\n",
        "print(\"Primeiro vetor Ordenado por merge = \",vetorMerge1)\n",
        "\n",
        "\n",
        "vetorMerge2 = [9,8]\n",
        "m = len(vetorMerge2)\n",
        "mergeSort(vetorMerge2 , 0 , m-1)\n",
        "print(\"Segundo vetor Ordenado por merge = \" , vetorMerge2)\n",
        "\n",
        "vetorMerge3 = [8,0,99,700,1,1000,4,54,43,2,14,76,11,33,17,67,95,857, 663, 331, 5,3]\n",
        "p = len(vetorMerge3)\n",
        "mergeSort(vetorMerge3 , 0 , p-1)\n",
        "\n",
        "print(\"Terceiro vetor Ordenado por merge = \" , vetorMerge3)"
      ],
      "metadata": {
        "colab": {
          "base_uri": "https://localhost:8080/"
        },
        "id": "99p7xaXLf_At",
        "outputId": "ea3b136d-276b-42df-d8ef-8d72b5007de4"
      },
      "execution_count": 224,
      "outputs": [
        {
          "output_type": "stream",
          "name": "stdout",
          "text": [
            "Primeiro vetor Ordenado por merge =  [0, 1, 1, 5, 11, 12, 14]\n",
            "Segundo vetor Ordenado por merge =  [8, 9]\n",
            "Terceiro vetor Ordenado por merge =  [0, 1, 2, 3, 4, 5, 8, 11, 14, 17, 33, 43, 54, 67, 76, 95, 99, 331, 663, 700, 857, 1000]\n"
          ]
        }
      ]
    },
    {
      "cell_type": "code",
      "source": [
        "vetorSelc1 = [-2,45,0,11,-9]\n",
        "n = len(vetorSelc1)\n",
        "selectionSort(vetorSelc1 , n)\n",
        "print(\"Primeiro vetor ordenado por selection = \",vetorSelc1)\n",
        "\n",
        "vetorSelec2 = [3,90,6,100]\n",
        "m = len(vetorSelec2)\n",
        "selectionSort(vetorSelec2, m)\n",
        "print(\"Segundo vetor ordenado por selection = \" , vetorSelec2)\n",
        "\n",
        "vetorSelec3 = [0,188,363,113,9,4,76,11,900,-91,80,441,999,1000,565,133]\n",
        "p = len(vetorSelec3)\n",
        "selectionSort(vetorSelec3 ,p)\n",
        "print(\"Terceiro vetor ordenado por selection = \" , vetorSelec3)"
      ],
      "metadata": {
        "colab": {
          "base_uri": "https://localhost:8080/"
        },
        "id": "60-ghLvtlZ47",
        "outputId": "3eb89b65-1032-48b2-f27b-563dfcb91b26"
      },
      "execution_count": 225,
      "outputs": [
        {
          "output_type": "stream",
          "name": "stdout",
          "text": [
            "Primeiro vetor ordenado por selection =  [-9, -2, 0, 11, 45]\n",
            "Segundo vetor ordenado por selection =  [3, 6, 90, 100]\n",
            "Terceiro vetor ordenado por selection =  [-91, 0, 4, 9, 11, 76, 80, 113, 133, 188, 363, 441, 565, 900, 999, 1000]\n"
          ]
        }
      ]
    },
    {
      "cell_type": "code",
      "source": [
        "vetorBuble1 = [90,1,10,34,0,4]\n",
        "bubbleSort(vetorBuble1)\n",
        "print(\"Primeiro vetor Ordenado por Buble = \",vetorBuble1)\n",
        "\n",
        "vetorBuble2 = [1,8,86,19,43,65,4,14]\n",
        "bubbleSort(vetorBuble2)\n",
        "print(\"Segundo vetor Ordenado por Buble = \", vetorBuble2)\n",
        "\n",
        "vetorBuble3 = [97,76,881,973,453,14,0,44,12,65,1,888,541,376,913,553,764,143,234]\n",
        "bubbleSort(vetorBuble3)\n",
        "print(\"Terceiro vetor Ordenado por Buble = \" , vetorBuble3)"
      ],
      "metadata": {
        "colab": {
          "base_uri": "https://localhost:8080/"
        },
        "id": "Q8iU0QBULz6A",
        "outputId": "cba2a0a5-d478-4207-c9b1-12f25666038b"
      },
      "execution_count": 226,
      "outputs": [
        {
          "output_type": "stream",
          "name": "stdout",
          "text": [
            "Primeiro vetor Ordenado por Buble =  [0, 1, 4, 10, 34, 90]\n",
            "Segundo vetor Ordenado por Buble =  [1, 4, 8, 14, 19, 43, 65, 86]\n",
            "Terceiro vetor Ordenado por Buble =  [0, 1, 12, 14, 44, 65, 76, 97, 143, 234, 376, 453, 541, 553, 764, 881, 888, 913, 973]\n"
          ]
        }
      ]
    },
    {
      "cell_type": "code",
      "source": [
        "vetorHeap1 = [7,28,9,1,93,3,11]\n",
        "heapSort(vetorHeap1)\n",
        "print(\"Primeiro vetor Ordenado por Heap = \",vetorHeap1)\n",
        "\n",
        "vetorHeap2 = [3,1,98,333,87,54,4,1,0,44]\n",
        "heapSort(vetorHeap2)\n",
        "print(\"Segundo vetor Ordenado por Heap = \" , vetorHeap2)\n",
        "\n",
        "vetorHeap3 = [44,991,481,214,334,975,655,61,156,371,550,4,1,765,997,412,0,277,1]\n",
        "heapSort(vetorHeap3)\n",
        "print(\"Terceiro vetor Ordenado por Heap = \", vetorHeap3)"
      ],
      "metadata": {
        "colab": {
          "base_uri": "https://localhost:8080/"
        },
        "id": "vdOaNHy2QhxL",
        "outputId": "789e25df-6244-40c5-d958-f422475cab69"
      },
      "execution_count": 227,
      "outputs": [
        {
          "output_type": "stream",
          "name": "stdout",
          "text": [
            "Primeiro vetor Ordenado por Heap =  [1, 3, 7, 9, 11, 28, 93]\n",
            "Segundo vetor Ordenado por Heap =  [0, 1, 1, 3, 4, 44, 54, 87, 98, 333]\n",
            "Terceiro vetor Ordenado por Heap =  [0, 1, 1, 4, 44, 61, 156, 214, 277, 334, 371, 412, 481, 550, 655, 765, 975, 991, 997]\n"
          ]
        }
      ]
    },
    {
      "cell_type": "code",
      "source": [
        "vetorQuick1 = [10,5,100,331,91,14]\n",
        "n = len(vetorQuick1)\n",
        "quickSort(vetorQuick1 ,0 , n-1)\n",
        "\n",
        "print(\"Primeiro vetor ordenado por Quick = \", vetorQuick1)\n",
        "\n",
        "vetorQuick2 = [4,31,0,22,7,98,11,65,0]\n",
        "m = len(vetorQuick2)\n",
        "quickSort(vetorQuick2 , 0 , m-1)\n",
        "print(\"Segundo vetor ordenado por Quick = \" , vetorQuick2)\n",
        "\n",
        "vetorQuick3 = [981,9,44,11,4,6,1,111,232,33,776,655,3,76,89,97,16,42,883,56,113,999,13]\n",
        "p = len(vetorQuick3)\n",
        "quickSort(vetorQuick3, 0, p-1)\n",
        "print(\"Terceiro vetor ordenado por Quick = \", vetorQuick3)"
      ],
      "metadata": {
        "colab": {
          "base_uri": "https://localhost:8080/"
        },
        "id": "cTwjDAE3bNAv",
        "outputId": "5349f1da-5f52-4404-ae11-6251addbf314"
      },
      "execution_count": 228,
      "outputs": [
        {
          "output_type": "stream",
          "name": "stdout",
          "text": [
            "Primeiro vetor ordenado por Quick =  [5, 10, 14, 91, 100, 331]\n",
            "Segundo vetor ordenado por Quick =  [0, 0, 4, 7, 11, 22, 31, 65, 98]\n",
            "Terceiro vetor ordenado por Quick =  [1, 3, 4, 6, 9, 11, 13, 16, 33, 42, 44, 56, 76, 89, 97, 111, 113, 232, 655, 776, 883, 981, 999]\n"
          ]
        }
      ]
    }
  ],
  "metadata": {
    "colab": {
      "collapsed_sections": [
        "nEw1UEsmoKMg",
        "8dWpeYUvw-wU",
        "zNI1kX0yyDrs",
        "vk4vOTkKyLB-"
      ],
      "provenance": [],
      "toc_visible": true
    },
    "kernelspec": {
      "display_name": "Python 3",
      "name": "python3"
    },
    "language_info": {
      "name": "python"
    }
  },
  "nbformat": 4,
  "nbformat_minor": 0
}